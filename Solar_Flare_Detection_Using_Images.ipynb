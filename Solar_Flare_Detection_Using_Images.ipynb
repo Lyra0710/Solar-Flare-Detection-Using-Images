{
  "nbformat": 4,
  "nbformat_minor": 0,
  "metadata": {
    "colab": {
      "provenance": [],
      "authorship_tag": "ABX9TyNdh/A7PD04GcBx3BcFwqpS",
      "include_colab_link": true
    },
    "kernelspec": {
      "name": "python3",
      "display_name": "Python 3"
    },
    "language_info": {
      "name": "python"
    }
  },
  "cells": [
    {
      "cell_type": "markdown",
      "metadata": {
        "id": "view-in-github",
        "colab_type": "text"
      },
      "source": [
        "<a href=\"https://colab.research.google.com/github/Lyra0710/Solar-Flare-Detection-Using-Images/blob/main/Solar_Flare_Detection_Using_Images.ipynb\" target=\"_parent\"><img src=\"https://colab.research.google.com/assets/colab-badge.svg\" alt=\"Open In Colab\"/></a>"
      ]
    },
    {
      "cell_type": "code",
      "execution_count": null,
      "metadata": {
        "id": "5TLWzR3DP9Hb"
      },
      "outputs": [],
      "source": [
        "1. Paper Replication : https://doi.org/10.1016/j.asr.2021.01.042"
      ]
    },
    {
      "cell_type": "markdown",
      "source": [
        "Initialising Github"
      ],
      "metadata": {
        "id": "B-0C_rGooQSv"
      }
    },
    {
      "cell_type": "code",
      "source": [],
      "metadata": {
        "id": "9uYYJ4iioTKQ"
      },
      "execution_count": null,
      "outputs": []
    }
  ]
}